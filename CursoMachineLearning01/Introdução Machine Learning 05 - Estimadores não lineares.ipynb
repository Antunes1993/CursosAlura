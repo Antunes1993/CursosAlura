{
 "cells": [
  {
   "cell_type": "code",
   "execution_count": 3,
   "id": "608edb6f",
   "metadata": {},
   "outputs": [],
   "source": [
    "#Resolvendo o problema de escala \n",
    "\n",
    "from sklearn.preprocessing import StandardScaler\n",
    "from sklearn.model_selection import train_test_split\n",
    "from sklearn.svm import SVC\n",
    "from sklearn.metrics import accuracy_score\n",
    "import numpy as np\n",
    "import pandas as pd  \n",
    "\n",
    "#Projetos finalizados: 1\n",
    "#Projetos não finalizados: 0\n",
    "\n",
    "#Lê os dados csv\n",
    "uri = \"https://gist.githubusercontent.com/guilhermesilveira/1b7d5475863c15f484ac495bd70975cf/raw/16aff7a0aee67e7c100a2a48b676a2d2d142f646/projects.csv\"\n",
    "dados = pd.read_csv(uri)\n",
    "\n",
    "#Faz o mapeamento para traduzir o cabeçalho das colunas\n",
    "mapa = {\n",
    "    \"unfinished\":\"nao_finalizados\",\n",
    "    \"expected_hours\":\"horas_esperadas\",\n",
    "    \"price\":\"preco\"\n",
    "}\n",
    "\n",
    "#Faz o mapeamento para que Finalizados = 1 e Não finalizados = 0 (para deixar mais intuitivo)\n",
    "troca = {\n",
    "    0 : 1,\n",
    "    1 : 0\n",
    "}\n",
    "\n",
    "#Formata o cabeçalho dos dados de acordo com o mapeamento\n",
    "dados = dados.rename(columns = mapa)\n",
    "dados['finalizados'] = dados.nao_finalizados.map(troca)\n",
    "\n",
    "\n",
    "#Elimina a necessidade de usar random_state = SEED no train_test_split e no LinearSVC\n",
    "SEED = 5\n",
    "np.random.seed(SEED)\n",
    "x = dados[['horas_esperadas', 'preco']]\n",
    "y = dados['finalizados']\n",
    "\n",
    "np.random.seed(SEED)\n",
    "raw_treino_x, raw_teste_x, treino_y, teste_y = train_test_split(x, y, test_size = 0.15, stratify = y)\n"
   ]
  },
  {
   "cell_type": "code",
   "execution_count": 4,
   "id": "0cab9997",
   "metadata": {},
   "outputs": [
    {
     "name": "stdout",
     "output_type": "stream",
     "text": [
      "Treinaremos com 1833 elementos e testaremos com 324 elementos\n",
      "A acurácia foi 53.09%\n"
     ]
    }
   ],
   "source": [
    "print(\"Treinaremos com %d elementos e testaremos com %d elementos\" % (len(raw_treino_x), len(raw_teste_x)))\n",
    "\n",
    "scaler = StandardScaler()\n",
    "scaler.fit(raw_treino_x)\n",
    "treino_x = scaler.transform(raw_treino_x)\n",
    "teste_x = scaler.transform(raw_teste_x)\n",
    "\n",
    "modelo = SVC()\n",
    "modelo.fit(raw_treino_x, treino_y)\n",
    "previsoes = modelo.predict(raw_teste_x)\n",
    "\n",
    "acuracia = accuracy_score(teste_y, previsoes) * 100\n",
    "print(\"A acurácia foi %.2f%%\" % acuracia)"
   ]
  },
  {
   "cell_type": "code",
   "execution_count": 5,
   "id": "38ea97f8",
   "metadata": {},
   "outputs": [
    {
     "ename": "AttributeError",
     "evalue": "'numpy.ndarray' object has no attribute 'horas_esperadas'",
     "output_type": "error",
     "traceback": [
      "\u001b[1;31m---------------------------------------------------------------------------\u001b[0m",
      "\u001b[1;31mAttributeError\u001b[0m                            Traceback (most recent call last)",
      "\u001b[1;32m<ipython-input-5-80cd70e22414>\u001b[0m in \u001b[0;36m<module>\u001b[1;34m\u001b[0m\n\u001b[0;32m      1\u001b[0m \u001b[1;31m#Note que o x (horas esperadas) vai de 0 a 100 e o y (preco) vai de 0 a 27738 no gráfico.\u001b[0m\u001b[1;33m\u001b[0m\u001b[1;33m\u001b[0m\u001b[1;33m\u001b[0m\u001b[0m\n\u001b[1;32m----> 2\u001b[1;33m \u001b[0mx_min\u001b[0m \u001b[1;33m=\u001b[0m \u001b[0mteste_x\u001b[0m\u001b[1;33m.\u001b[0m\u001b[0mhoras_esperadas\u001b[0m\u001b[1;33m.\u001b[0m\u001b[0mmin\u001b[0m\u001b[1;33m(\u001b[0m\u001b[1;33m)\u001b[0m\u001b[1;33m\u001b[0m\u001b[1;33m\u001b[0m\u001b[0m\n\u001b[0m\u001b[0;32m      3\u001b[0m \u001b[0mx_max\u001b[0m \u001b[1;33m=\u001b[0m \u001b[0mteste_x\u001b[0m\u001b[1;33m.\u001b[0m\u001b[0mhoras_esperadas\u001b[0m\u001b[1;33m.\u001b[0m\u001b[0mmax\u001b[0m\u001b[1;33m(\u001b[0m\u001b[1;33m)\u001b[0m\u001b[1;33m\u001b[0m\u001b[1;33m\u001b[0m\u001b[0m\n\u001b[0;32m      4\u001b[0m \u001b[1;33m\u001b[0m\u001b[0m\n\u001b[0;32m      5\u001b[0m \u001b[0my_min\u001b[0m \u001b[1;33m=\u001b[0m \u001b[0mteste_x\u001b[0m\u001b[1;33m.\u001b[0m\u001b[0mpreco\u001b[0m\u001b[1;33m.\u001b[0m\u001b[0mmin\u001b[0m\u001b[1;33m(\u001b[0m\u001b[1;33m)\u001b[0m\u001b[1;33m\u001b[0m\u001b[1;33m\u001b[0m\u001b[0m\n",
      "\u001b[1;31mAttributeError\u001b[0m: 'numpy.ndarray' object has no attribute 'horas_esperadas'"
     ]
    }
   ],
   "source": [
    "#Note que o x (horas esperadas) vai de 0 a 100 e o y (preco) vai de 0 a 27738 no gráfico.\n",
    "x_min = teste_x.horas_esperadas.min()\n",
    "x_max = teste_x.horas_esperadas.max()\n",
    "\n",
    "y_min = teste_x.preco.min()\n",
    "y_max = teste_x.preco.max()\n",
    "\n",
    "print(x_min, x_max, y_min, y_max)"
   ]
  },
  {
   "cell_type": "code",
   "execution_count": null,
   "id": "0e7b3991",
   "metadata": {},
   "outputs": [],
   "source": []
  }
 ],
 "metadata": {
  "kernelspec": {
   "display_name": "Python 3",
   "language": "python",
   "name": "python3"
  },
  "language_info": {
   "codemirror_mode": {
    "name": "ipython",
    "version": 3
   },
   "file_extension": ".py",
   "mimetype": "text/x-python",
   "name": "python",
   "nbconvert_exporter": "python",
   "pygments_lexer": "ipython3",
   "version": "3.9.1"
  }
 },
 "nbformat": 4,
 "nbformat_minor": 5
}
