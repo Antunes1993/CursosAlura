{
 "cells": [
  {
   "cell_type": "code",
   "execution_count": 1,
   "id": "5f5e3d42",
   "metadata": {},
   "outputs": [
    {
     "data": {
      "text/html": [
       "<div>\n",
       "<style scoped>\n",
       "    .dataframe tbody tr th:only-of-type {\n",
       "        vertical-align: middle;\n",
       "    }\n",
       "\n",
       "    .dataframe tbody tr th {\n",
       "        vertical-align: top;\n",
       "    }\n",
       "\n",
       "    .dataframe thead th {\n",
       "        text-align: right;\n",
       "    }\n",
       "</style>\n",
       "<table border=\"1\" class=\"dataframe\">\n",
       "  <thead>\n",
       "    <tr style=\"text-align: right;\">\n",
       "      <th></th>\n",
       "      <th>principal</th>\n",
       "      <th>como_funciona</th>\n",
       "      <th>contato</th>\n",
       "      <th>comprado</th>\n",
       "    </tr>\n",
       "  </thead>\n",
       "  <tbody>\n",
       "    <tr>\n",
       "      <th>0</th>\n",
       "      <td>1</td>\n",
       "      <td>1</td>\n",
       "      <td>0</td>\n",
       "      <td>0</td>\n",
       "    </tr>\n",
       "    <tr>\n",
       "      <th>1</th>\n",
       "      <td>1</td>\n",
       "      <td>1</td>\n",
       "      <td>0</td>\n",
       "      <td>0</td>\n",
       "    </tr>\n",
       "    <tr>\n",
       "      <th>2</th>\n",
       "      <td>1</td>\n",
       "      <td>1</td>\n",
       "      <td>0</td>\n",
       "      <td>0</td>\n",
       "    </tr>\n",
       "    <tr>\n",
       "      <th>3</th>\n",
       "      <td>1</td>\n",
       "      <td>1</td>\n",
       "      <td>0</td>\n",
       "      <td>0</td>\n",
       "    </tr>\n",
       "    <tr>\n",
       "      <th>4</th>\n",
       "      <td>1</td>\n",
       "      <td>1</td>\n",
       "      <td>0</td>\n",
       "      <td>0</td>\n",
       "    </tr>\n",
       "    <tr>\n",
       "      <th>...</th>\n",
       "      <td>...</td>\n",
       "      <td>...</td>\n",
       "      <td>...</td>\n",
       "      <td>...</td>\n",
       "    </tr>\n",
       "    <tr>\n",
       "      <th>94</th>\n",
       "      <td>0</td>\n",
       "      <td>0</td>\n",
       "      <td>1</td>\n",
       "      <td>0</td>\n",
       "    </tr>\n",
       "    <tr>\n",
       "      <th>95</th>\n",
       "      <td>1</td>\n",
       "      <td>1</td>\n",
       "      <td>1</td>\n",
       "      <td>1</td>\n",
       "    </tr>\n",
       "    <tr>\n",
       "      <th>96</th>\n",
       "      <td>0</td>\n",
       "      <td>0</td>\n",
       "      <td>1</td>\n",
       "      <td>0</td>\n",
       "    </tr>\n",
       "    <tr>\n",
       "      <th>97</th>\n",
       "      <td>0</td>\n",
       "      <td>1</td>\n",
       "      <td>0</td>\n",
       "      <td>0</td>\n",
       "    </tr>\n",
       "    <tr>\n",
       "      <th>98</th>\n",
       "      <td>0</td>\n",
       "      <td>0</td>\n",
       "      <td>0</td>\n",
       "      <td>0</td>\n",
       "    </tr>\n",
       "  </tbody>\n",
       "</table>\n",
       "<p>99 rows × 4 columns</p>\n",
       "</div>"
      ],
      "text/plain": [
       "    principal  como_funciona  contato  comprado\n",
       "0           1              1        0         0\n",
       "1           1              1        0         0\n",
       "2           1              1        0         0\n",
       "3           1              1        0         0\n",
       "4           1              1        0         0\n",
       "..        ...            ...      ...       ...\n",
       "94          0              0        1         0\n",
       "95          1              1        1         1\n",
       "96          0              0        1         0\n",
       "97          0              1        0         0\n",
       "98          0              0        0         0\n",
       "\n",
       "[99 rows x 4 columns]"
      ]
     },
     "execution_count": 1,
     "metadata": {},
     "output_type": "execute_result"
    }
   ],
   "source": [
    "import pandas as pd \n",
    "\n",
    "uri = 'https://gist.githubusercontent.com/guilhermesilveira/2d2efa37d66b6c84a722ea627a897ced/raw/10968b997d885cbded1c92938c7a9912ba41c615/tracking.csv'\n",
    "dados = pd.read_csv(uri)\n",
    "\n",
    "mapa = {\n",
    "    \"home\":\"principal\",\n",
    "    \"how_it_works\" : \"como_funciona\", \n",
    "    \"contact\": \"contato\",\n",
    "    \"bought\" : \"comprado\"\n",
    "}\n",
    "\n",
    "dados = dados.rename(columns = mapa)\n",
    "\n",
    "x = dados[[\"principal\", \"como_funciona\", \"contato\"]]\n",
    "y = dados[\"comprado\"]\n",
    "\n",
    "dados\n"
   ]
  },
  {
   "cell_type": "code",
   "execution_count": 4,
   "id": "1c5e389f",
   "metadata": {},
   "outputs": [
    {
     "name": "stdout",
     "output_type": "stream",
     "text": [
      "Treinaremos com 74 elementos e testaremos com 25 elementos\n",
      "A acurácia foi de 96.00%\n"
     ]
    }
   ],
   "source": [
    "from sklearn.svm import LinearSVC\n",
    "from sklearn.metrics import accuracy_score\n",
    "from sklearn.model_selection import train_test_split\n",
    "\n",
    "SEED = 20\n",
    "treino_x, teste_x, treino_y, teste_y = train_test_split(x, y, random_state = SEED, test_size = 0.25)\n",
    "\n",
    "print(\"Treinaremos com %d elementos e testaremos com %d elementos\" %(len(treino_x), len(teste_x)))\n",
    "\n",
    "modelo = LinearSVC()\n",
    "modelo.fit(treino_x, treino_y)\n",
    "previsoes = modelo.predict(teste_x)\n",
    "\n",
    "acuracia = accuracy_score(teste_y, previsoes) * 100 \n",
    "print (\"A acurácia foi de %.2f%%\" % acuracia)"
   ]
  },
  {
   "cell_type": "markdown",
   "id": "881ac0ab",
   "metadata": {},
   "source": [
    "# Vamos olhar agora quantas pessoas compraram e não compraram, tanto no treino quanto no teste. "
   ]
  },
  {
   "cell_type": "code",
   "execution_count": 5,
   "id": "a4efb347",
   "metadata": {},
   "outputs": [
    {
     "name": "stdout",
     "output_type": "stream",
     "text": [
      "0    47\n",
      "1    27\n",
      "Name: comprado, dtype: int64\n",
      "0    19\n",
      "1     6\n",
      "Name: comprado, dtype: int64\n"
     ]
    }
   ],
   "source": [
    "#No treino\n",
    "#---------------------------------------------------\n",
    "print (treino_y.value_counts()) #49 não compraram, #25 compraram. Relação: 47/27 = 1.74\n",
    "\n",
    "#No teste\n",
    "#---------------------------------------------------\n",
    "print (teste_y.value_counts()) #17 não compararam, 8 compraram. Relação: 19/6 = 3.16\n",
    "\n",
    "#Não há proporcionalidade entre os dados de treinamento e teste. Isso é algo perigoso para o modelo,\n",
    "#pois ele ficará \"acostumado\" a identificar somente uma das classes. \n",
    "\n"
   ]
  },
  {
   "cell_type": "code",
   "execution_count": 7,
   "id": "5912236d",
   "metadata": {},
   "outputs": [
    {
     "name": "stdout",
     "output_type": "stream",
     "text": [
      "Treinaremos com 74 elementos e testaremos com 25 elementos\n",
      "A acurácia foi de 96.00%\n"
     ]
    }
   ],
   "source": [
    "#Para sanar esse problema usaremos o parâmetro de estratificação na divisão treino/teste.\n",
    "\n",
    "treino_x, teste_x, treino_y, teste_y = train_test_split(x, y, random_state = SEED, test_size = 0.25, stratify = y)\n",
    "\n",
    "print(\"Treinaremos com %d elementos e testaremos com %d elementos\" %(len(treino_x), len(teste_x)))\n",
    "\n",
    "modelo = LinearSVC()\n",
    "modelo.fit(treino_x, treino_y)\n",
    "previsoes = modelo.predict(teste_x)\n",
    "\n",
    "acuracia = accuracy_score(teste_y, previsoes) * 100 \n",
    "print (\"A acurácia foi de %.2f%%\" % acuracia)"
   ]
  },
  {
   "cell_type": "code",
   "execution_count": 8,
   "id": "c18b5a27",
   "metadata": {},
   "outputs": [
    {
     "name": "stdout",
     "output_type": "stream",
     "text": [
      "0    49\n",
      "1    25\n",
      "Name: comprado, dtype: int64\n",
      "0    17\n",
      "1     8\n",
      "Name: comprado, dtype: int64\n"
     ]
    }
   ],
   "source": [
    "#Agora temos:\n",
    "\n",
    "#No treino\n",
    "#---------------------------------------------------\n",
    "print (treino_y.value_counts()) #49 não compraram, #25 compraram. Relação: 49/25 = 1.96\n",
    "\n",
    "#No teste\n",
    "#---------------------------------------------------\n",
    "print (teste_y.value_counts()) #17 não compararam, 8 compraram. Relação: 17/8 = 2.12"
   ]
  }
 ],
 "metadata": {
  "kernelspec": {
   "display_name": "Python 3",
   "language": "python",
   "name": "python3"
  },
  "language_info": {
   "codemirror_mode": {
    "name": "ipython",
    "version": 3
   },
   "file_extension": ".py",
   "mimetype": "text/x-python",
   "name": "python",
   "nbconvert_exporter": "python",
   "pygments_lexer": "ipython3",
   "version": "3.9.1"
  }
 },
 "nbformat": 4,
 "nbformat_minor": 5
}
