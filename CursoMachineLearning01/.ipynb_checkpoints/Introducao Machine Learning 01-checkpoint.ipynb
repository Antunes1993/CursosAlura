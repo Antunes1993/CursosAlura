{
 "cells": [
  {
   "cell_type": "code",
   "execution_count": 2,
   "id": "83aa5144",
   "metadata": {},
   "outputs": [
    {
     "name": "stdout",
     "output_type": "stream",
     "text": [
      "[1 0 0]\n"
     ]
    }
   ],
   "source": [
    "#Classes - Porco/Cachorro\n",
    "#Features - (1 - sim, 0 - não)\n",
    "#1. Pelo longo\n",
    "#2. Perna curta\n",
    "#3. Late? \n",
    "from sklearn.svm import LinearSVC\n",
    "\n",
    "porco1 = [0,1,0]\n",
    "porco2 = [0,1,1]\n",
    "porco3 = [1,1,0]\n",
    "\n",
    "cachorro1 = [0,1,1]\n",
    "cachorro2 = [1,0,1]\n",
    "cachorro3 = [1,1,1]\n",
    "\n",
    "\n",
    "#Porco = 0\n",
    "#Cachorro = 1 \n",
    "dados = [porco1, porco2, porco3, cachorro1, cachorro2, cachorro3]\n",
    "classes = [0,0,0,1,1,1]\n",
    "\n",
    "model = LinearSVC()\n",
    "model.fit(dados, classes)\n",
    "\n",
    "\n",
    "animal_desconhecido_1 = [1,1,1]\n",
    "animal_desconhecido_2 = [1,1,0]\n",
    "animal_desconhecido_3 = [0,1,0]\n",
    "\n",
    "#Conjunto e labels de testes\n",
    "teste_x = [animal_desconhecido_1, animal_desconhecido_2, animal_desconhecido_3]\n",
    "teste_y = [1,0,0]\n",
    "\n",
    "previsoes = model.predict(teste_x)\n",
    "\n",
    "print (previsoes)"
   ]
  },
  {
   "cell_type": "code",
   "execution_count": 3,
   "id": "a09da595",
   "metadata": {},
   "outputs": [
    {
     "name": "stdout",
     "output_type": "stream",
     "text": [
      "Taxa de acerto 100.0\n"
     ]
    }
   ],
   "source": [
    "from sklearn.metrics import accuracy_score\n",
    "taxa_de_acerto = accuracy_score(teste_y, previsoes)\n",
    "print (\"Taxa de acerto\", taxa_de_acerto * 100)"
   ]
  },
  {
   "cell_type": "code",
   "execution_count": null,
   "id": "285eeec8",
   "metadata": {},
   "outputs": [],
   "source": []
  }
 ],
 "metadata": {
  "kernelspec": {
   "display_name": "Python 3",
   "language": "python",
   "name": "python3"
  },
  "language_info": {
   "codemirror_mode": {
    "name": "ipython",
    "version": 3
   },
   "file_extension": ".py",
   "mimetype": "text/x-python",
   "name": "python",
   "nbconvert_exporter": "python",
   "pygments_lexer": "ipython3",
   "version": "3.9.1"
  }
 },
 "nbformat": 4,
 "nbformat_minor": 5
}
